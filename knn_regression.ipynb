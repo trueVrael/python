{
 "cells": [
  {
   "cell_type": "code",
   "execution_count": 243,
   "metadata": {},
   "outputs": [],
   "source": [
    "import math\n",
    "def euclidean_dist(x1,y1,x2,y2):\n",
    "    return math.sqrt((x1-x2)**2 + (y1-y2)**2)"
   ]
  },
  {
   "cell_type": "code",
   "execution_count": 244,
   "metadata": {},
   "outputs": [],
   "source": [
    "def gaussian(dist):\n",
    "    return 1./((math.sqrt(2.*math.pi))*math.exp(-dist/2))"
   ]
  },
  {
   "cell_type": "code",
   "execution_count": 251,
   "metadata": {},
   "outputs": [],
   "source": [
    "import operator\n",
    "class KNN(object):\n",
    "    \n",
    "    def __init__(self, x, y, k, weighted = False):\n",
    "        assert(k <= len(x))\n",
    "        self.x = x\n",
    "        self.y = y\n",
    "        self.k = k\n",
    "        self.weighted = weighted\n",
    "        \n",
    "    def predict(self, test):\n",
    "        predictions = []\n",
    "        for i, j in test.values:\n",
    "            distances = []\n",
    "            \n",
    "            for id_x, (l,m) in enumerate(self.x.values):\n",
    "                dist = euclidean_dist(i,j,l,m)\n",
    "                distances.append((self.y[id_x], dist))\n",
    "            distances.sort(key=operator.itemgetter(1))\n",
    "            v = 0\n",
    "            total_weight = 0\n",
    "            \n",
    "            for i in range(self.k):\n",
    "                if(self.weighted):\n",
    "                    weight = gaussian(distances[i][1])\n",
    "                    v += distances[i][0]*weight\n",
    "                    total_weight += weight\n",
    "                else:\n",
    "                    v += distances[i][0]\n",
    "                \n",
    "            if(self.weighted):\n",
    "                predictions.append(v/total_weight)\n",
    "            else:\n",
    "                predictions.append(v/self.k)\n",
    "        return predictions"
   ]
  },
  {
   "cell_type": "code",
   "execution_count": 252,
   "metadata": {},
   "outputs": [
    {
     "data": {
      "text/plain": [
       "<bound method NDFrame.head of       mpg  cyl  displ   hp  weight  accel          yr  origin  \\\n",
       "0    18.0    8  307.0  130    3504   12.0  1970-01-01      US   \n",
       "1    15.0    8  350.0  165    3693   11.5  1970-01-01      US   \n",
       "2    18.0    8  318.0  150    3436   11.0  1970-01-01      US   \n",
       "3    16.0    8  304.0  150    3433   12.0  1970-01-01      US   \n",
       "4    17.0    8  302.0  140    3449   10.5  1970-01-01      US   \n",
       "..    ...  ...    ...  ...     ...    ...         ...     ...   \n",
       "387  27.0    4  140.0   86    2790   15.6  1982-01-01      US   \n",
       "388  44.0    4   97.0   52    2130   24.6  1982-01-01  Europe   \n",
       "389  32.0    4  135.0   84    2295   11.6  1982-01-01      US   \n",
       "390  28.0    4  120.0   79    2625   18.6  1982-01-01      US   \n",
       "391  31.0    4  119.0   82    2720   19.4  1982-01-01      US   \n",
       "\n",
       "                          name  \n",
       "0    chevrolet chevelle malibu  \n",
       "1            buick skylark 320  \n",
       "2           plymouth satellite  \n",
       "3                amc rebel sst  \n",
       "4                  ford torino  \n",
       "..                         ...  \n",
       "387            ford mustang gl  \n",
       "388                  vw pickup  \n",
       "389              dodge rampage  \n",
       "390                ford ranger  \n",
       "391                 chevy s-10  \n",
       "\n",
       "[392 rows x 9 columns]>"
      ]
     },
     "execution_count": 252,
     "metadata": {},
     "output_type": "execute_result"
    }
   ],
   "source": [
    "import pandas as pd\n",
    "\n",
    "data = pd.read_csv(\"automobiles.csv\")\n",
    "data.head\n",
    "#features = data.iloc[:, []]"
   ]
  },
  {
   "cell_type": "code",
   "execution_count": 253,
   "metadata": {},
   "outputs": [
    {
     "data": {
      "text/plain": [
       "<bound method NDFrame.head of      displ   hp\n",
       "0    307.0  130\n",
       "1    350.0  165\n",
       "2    318.0  150\n",
       "3    304.0  150\n",
       "4    302.0  140\n",
       "..     ...  ...\n",
       "387  140.0   86\n",
       "388   97.0   52\n",
       "389  135.0   84\n",
       "390  120.0   79\n",
       "391  119.0   82\n",
       "\n",
       "[392 rows x 2 columns]>"
      ]
     },
     "execution_count": 253,
     "metadata": {},
     "output_type": "execute_result"
    }
   ],
   "source": [
    "features = data.iloc[:, [2,3]]\n",
    "features.head"
   ]
  },
  {
   "cell_type": "code",
   "execution_count": 254,
   "metadata": {},
   "outputs": [],
   "source": [
    "target = data.mpg.values"
   ]
  },
  {
   "cell_type": "code",
   "execution_count": 255,
   "metadata": {},
   "outputs": [
    {
     "name": "stdout",
     "output_type": "stream",
     "text": [
      "(313, 2) (313,)\n",
      "(79, 2) (79,)\n"
     ]
    }
   ],
   "source": [
    "from sklearn.model_selection import train_test_split\n",
    "X_train, X_test, y_train, y_test = train_test_split(features, target, test_size = 0.2)\n",
    "print(X_train.shape, y_train.shape)\n",
    "print(X_test.shape, y_test.shape)"
   ]
  },
  {
   "cell_type": "code",
   "execution_count": 256,
   "metadata": {},
   "outputs": [
    {
     "name": "stdout",
     "output_type": "stream",
     "text": [
      "18.072151898734173\n",
      "12.409015471167372\n",
      "12.340588607594945\n",
      "11.644805696202537\n"
     ]
    }
   ],
   "source": [
    "from sklearn.metrics import mean_squared_error\n",
    "\n",
    "k_list = [1,3,10,20]\n",
    "for k in k_list:\n",
    "    model = KNN(X_train,y_train,k)\n",
    "    prediciton = model.predict(X_test)\n",
    "    error = mean_squared_error(y_test, prediciton)\n",
    "    print(error)"
   ]
  },
  {
   "cell_type": "code",
   "execution_count": null,
   "metadata": {},
   "outputs": [],
   "source": []
  },
  {
   "cell_type": "code",
   "execution_count": null,
   "metadata": {},
   "outputs": [],
   "source": []
  }
 ],
 "metadata": {
  "kernelspec": {
   "display_name": "Python 3",
   "language": "python",
   "name": "python3"
  },
  "language_info": {
   "codemirror_mode": {
    "name": "ipython",
    "version": 3
   },
   "file_extension": ".py",
   "mimetype": "text/x-python",
   "name": "python",
   "nbconvert_exporter": "python",
   "pygments_lexer": "ipython3",
   "version": "3.6.8"
  }
 },
 "nbformat": 4,
 "nbformat_minor": 2
}
