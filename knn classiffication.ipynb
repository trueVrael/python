{
 "cells": [
  {
   "cell_type": "code",
   "execution_count": 2,
   "metadata": {},
   "outputs": [],
   "source": [
    "import pandas as pd\n",
    "import numpy as np\n",
    "import math\n",
    "import operator\n",
    "\n",
    "data = pd.read_csv('iris.csv')\n",
    "\n",
    "def euclidean_dist(p1,p2, length):\n",
    "    distance = 0\n",
    "    for x in range(length):\n",
    "        distance += np.square(p1[x] - p2[x])\n",
    "    return np.sqrt(distance)"
   ]
  },
  {
   "cell_type": "code",
   "execution_count": 3,
   "metadata": {},
   "outputs": [],
   "source": [
    "def knn(trainingSet, test, k):\n",
    "    distances = {}\n",
    "    sort = {}\n",
    "    \n",
    "    length = test.shape[1]\n",
    "    \n",
    "    rows = len(trainingSet)\n",
    "    \n",
    "    for x in range(rows):\n",
    "        dist = euclidean_dist(test, trainingSet.iloc[x], length)\n",
    "        distances[x] = dist[0]\n",
    "        \n",
    "    sorted_distances = sorted(distances.items(), key=operator.itemgetter(1))\n",
    "    \n",
    "    neighbors = []\n",
    "    classes = {}\n",
    "    \n",
    "    for x in range(k):\n",
    "        tmp = sorted_distances[x][0]\n",
    "        neighbors.append(tmp)\n",
    "        response = trainingSet.iloc[tmp][-1]\n",
    "        \n",
    "        if response in classes:\n",
    "            classes[response] += 1\n",
    "        else:\n",
    "            classes[response] = 1\n",
    "            \n",
    "    res = sorted(classes.items(), key = operator.itemgetter(1), reverse = True)[0][0]\n",
    "    \n",
    "    return(res, neighbors)"
   ]
  },
  {
   "cell_type": "code",
   "execution_count": 4,
   "metadata": {},
   "outputs": [],
   "source": [
    "testList = [[2.2, 1.6, 7.1, 2.5]]\n",
    "test = pd.DataFrame(testList)"
   ]
  },
  {
   "cell_type": "code",
   "execution_count": 9,
   "metadata": {},
   "outputs": [
    {
     "name": "stdout",
     "output_type": "stream",
     "text": [
      "[106, 113, 121]\n",
      "Iris-virginica\n"
     ]
    }
   ],
   "source": [
    "k = 3\n",
    "result,neigh = knn(data, test, k)\n",
    "print(neigh)\n",
    "print(result)"
   ]
  },
  {
   "cell_type": "code",
   "execution_count": 6,
   "metadata": {},
   "outputs": [
    {
     "name": "stdout",
     "output_type": "stream",
     "text": [
      "['Iris-virginica']\n"
     ]
    }
   ],
   "source": [
    "from sklearn.neighbors import KNeighborsClassifier\n",
    "neigh = KNeighborsClassifier(n_neighbors=3)\n",
    "neigh.fit(data.iloc[:,0:4], data['Name'])\n",
    "print(neigh.predict(test))\n"
   ]
  },
  {
   "cell_type": "code",
   "execution_count": 7,
   "metadata": {},
   "outputs": [
    {
     "name": "stdout",
     "output_type": "stream",
     "text": [
      "[[106 113 121]]\n"
     ]
    }
   ],
   "source": [
    "print(neigh.kneighbors(test)[1])"
   ]
  },
  {
   "cell_type": "code",
   "execution_count": null,
   "metadata": {},
   "outputs": [],
   "source": []
  }
 ],
 "metadata": {
  "kernelspec": {
   "display_name": "Python 3",
   "language": "python",
   "name": "python3"
  },
  "language_info": {
   "codemirror_mode": {
    "name": "ipython",
    "version": 3
   },
   "file_extension": ".py",
   "mimetype": "text/x-python",
   "name": "python",
   "nbconvert_exporter": "python",
   "pygments_lexer": "ipython3",
   "version": "3.6.8"
  }
 },
 "nbformat": 4,
 "nbformat_minor": 2
}
